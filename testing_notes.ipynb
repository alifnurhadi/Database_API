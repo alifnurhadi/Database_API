{
 "cells": [
  {
   "cell_type": "code",
   "execution_count": 1,
   "metadata": {},
   "outputs": [],
   "source": [
    "import random\n",
    "from datetime import datetime, timedelta\n",
    "\n",
    "# Define the number of rows\n",
    "num_rows = 1000\n",
    "\n",
    "# Generate dates within the last 365 days\n",
    "start_date = datetime.now() - timedelta(days=365)\n",
    "date_data = [(start_date + timedelta(days=random.randint(0, 365))).strftime('%Y-%m-%d') for _ in range(num_rows)]\n",
    "\n",
    "# Generate categorical data for 'Category' and 'Status' columns\n",
    "categories = [\"A\", \"B\", \"C\"]\n",
    "status_types = [\"Active\", \"Inactive\", \"Pending\"]\n",
    "category_data = [random.choice(categories) for _ in range(num_rows)]\n",
    "status_data = [random.choice(status_types) for _ in range(num_rows)]\n",
    "\n",
    "# Generate numerical data for 'Sales', 'Profit', and 'Quantity' columns\n",
    "sales_data = [round(random.uniform(1000, 5000), 2) for _ in range(num_rows)]\n",
    "profit_data = [round(random.uniform(100, 500), 2) for _ in range(num_rows)]\n",
    "quantity_data = [random.randint(1, 50) for _ in range(num_rows)]\n",
    "\n",
    "# Combine data into a list of dictionaries for easy transformation\n",
    "dummy_data = [\n",
    "    {\n",
    "        \"Date\": date_data[i],\n",
    "        \"Category\": category_data[i],\n",
    "        \"Status\": status_data[i],\n",
    "        \"Sales\": sales_data[i],\n",
    "        \"Profit\": profit_data[i],\n",
    "        \"Quantity\": quantity_data[i],\n",
    "        \"Discount\": round(random.uniform(0, 0.5), 2)  # Generate discount as a float between 0 and 0.5\n",
    "    }\n",
    "    for i in range(num_rows)\n",
    "]"
   ]
  },
  {
   "cell_type": "code",
   "execution_count": 2,
   "metadata": {},
   "outputs": [],
   "source": [
    "import polars as pl"
   ]
  },
  {
   "cell_type": "code",
   "execution_count": 6,
   "metadata": {},
   "outputs": [],
   "source": [
    "data = pl.LazyFrame(dummy_data).collect(streaming=True)\n",
    "data.write_parquet('./data/sales.parquet',compression=\"zstd\",partition_by=['Category','Status'])"
   ]
  },
  {
   "cell_type": "code",
   "execution_count": 14,
   "metadata": {},
   "outputs": [
    {
     "data": {
      "text/html": [
       "<div><style>\n",
       ".dataframe > thead > tr,\n",
       ".dataframe > tbody > tr {\n",
       "  text-align: right;\n",
       "  white-space: pre-wrap;\n",
       "}\n",
       "</style>\n",
       "<small>shape: (98, 7)</small><table border=\"1\" class=\"dataframe\"><thead><tr><th>Date</th><th>Category</th><th>Status</th><th>Sales</th><th>Profit</th><th>Quantity</th><th>Discount</th></tr><tr><td>str</td><td>str</td><td>str</td><td>f64</td><td>f64</td><td>i64</td><td>f64</td></tr></thead><tbody><tr><td>&quot;2024-01-29&quot;</td><td>&quot;B&quot;</td><td>&quot;Active&quot;</td><td>2980.41</td><td>295.57</td><td>14</td><td>0.47</td></tr><tr><td>&quot;2024-11-05&quot;</td><td>&quot;B&quot;</td><td>&quot;Active&quot;</td><td>3522.16</td><td>223.25</td><td>35</td><td>0.05</td></tr><tr><td>&quot;2024-10-13&quot;</td><td>&quot;B&quot;</td><td>&quot;Active&quot;</td><td>2693.31</td><td>328.58</td><td>34</td><td>0.3</td></tr><tr><td>&quot;2024-03-11&quot;</td><td>&quot;B&quot;</td><td>&quot;Active&quot;</td><td>4167.64</td><td>493.6</td><td>44</td><td>0.39</td></tr><tr><td>&quot;2024-04-18&quot;</td><td>&quot;B&quot;</td><td>&quot;Active&quot;</td><td>2507.12</td><td>474.24</td><td>6</td><td>0.42</td></tr><tr><td>&hellip;</td><td>&hellip;</td><td>&hellip;</td><td>&hellip;</td><td>&hellip;</td><td>&hellip;</td><td>&hellip;</td></tr><tr><td>&quot;2024-03-31&quot;</td><td>&quot;B&quot;</td><td>&quot;Active&quot;</td><td>2647.91</td><td>266.16</td><td>12</td><td>0.05</td></tr><tr><td>&quot;2023-12-17&quot;</td><td>&quot;B&quot;</td><td>&quot;Active&quot;</td><td>4460.02</td><td>476.4</td><td>34</td><td>0.06</td></tr><tr><td>&quot;2023-12-04&quot;</td><td>&quot;B&quot;</td><td>&quot;Active&quot;</td><td>1404.45</td><td>474.81</td><td>31</td><td>0.03</td></tr><tr><td>&quot;2024-09-29&quot;</td><td>&quot;B&quot;</td><td>&quot;Active&quot;</td><td>2028.62</td><td>102.36</td><td>24</td><td>0.39</td></tr><tr><td>&quot;2024-09-05&quot;</td><td>&quot;B&quot;</td><td>&quot;Active&quot;</td><td>1799.02</td><td>315.91</td><td>41</td><td>0.26</td></tr></tbody></table></div>"
      ],
      "text/plain": [
       "shape: (98, 7)\n",
       "┌────────────┬──────────┬────────┬─────────┬────────┬──────────┬──────────┐\n",
       "│ Date       ┆ Category ┆ Status ┆ Sales   ┆ Profit ┆ Quantity ┆ Discount │\n",
       "│ ---        ┆ ---      ┆ ---    ┆ ---     ┆ ---    ┆ ---      ┆ ---      │\n",
       "│ str        ┆ str      ┆ str    ┆ f64     ┆ f64    ┆ i64      ┆ f64      │\n",
       "╞════════════╪══════════╪════════╪═════════╪════════╪══════════╪══════════╡\n",
       "│ 2024-01-29 ┆ B        ┆ Active ┆ 2980.41 ┆ 295.57 ┆ 14       ┆ 0.47     │\n",
       "│ 2024-11-05 ┆ B        ┆ Active ┆ 3522.16 ┆ 223.25 ┆ 35       ┆ 0.05     │\n",
       "│ 2024-10-13 ┆ B        ┆ Active ┆ 2693.31 ┆ 328.58 ┆ 34       ┆ 0.3      │\n",
       "│ 2024-03-11 ┆ B        ┆ Active ┆ 4167.64 ┆ 493.6  ┆ 44       ┆ 0.39     │\n",
       "│ 2024-04-18 ┆ B        ┆ Active ┆ 2507.12 ┆ 474.24 ┆ 6        ┆ 0.42     │\n",
       "│ …          ┆ …        ┆ …      ┆ …       ┆ …      ┆ …        ┆ …        │\n",
       "│ 2024-03-31 ┆ B        ┆ Active ┆ 2647.91 ┆ 266.16 ┆ 12       ┆ 0.05     │\n",
       "│ 2023-12-17 ┆ B        ┆ Active ┆ 4460.02 ┆ 476.4  ┆ 34       ┆ 0.06     │\n",
       "│ 2023-12-04 ┆ B        ┆ Active ┆ 1404.45 ┆ 474.81 ┆ 31       ┆ 0.03     │\n",
       "│ 2024-09-29 ┆ B        ┆ Active ┆ 2028.62 ┆ 102.36 ┆ 24       ┆ 0.39     │\n",
       "│ 2024-09-05 ┆ B        ┆ Active ┆ 1799.02 ┆ 315.91 ┆ 41       ┆ 0.26     │\n",
       "└────────────┴──────────┴────────┴─────────┴────────┴──────────┴──────────┘"
      ]
     },
     "execution_count": 14,
     "metadata": {},
     "output_type": "execute_result"
    }
   ],
   "source": [
    "pl.scan_parquet('./data/sales.parquet').filter((pl.col('Category') == 'B') & (pl.col('Status')=='Active')).collect()"
   ]
  },
  {
   "cell_type": "code",
   "execution_count": 25,
   "metadata": {},
   "outputs": [
    {
     "name": "stdout",
     "output_type": "stream",
     "text": [
      "shape: (98, 7)\n",
      "┌────────────┬──────────┬──────────┬──────────┬────────┬─────────┬────────┐\n",
      "│ Date       ┆ Quantity ┆ Discount ┆ Category ┆ Status ┆ Sales   ┆ Profit │\n",
      "│ ---        ┆ ---      ┆ ---      ┆ ---      ┆ ---    ┆ ---     ┆ ---    │\n",
      "│ str        ┆ i64      ┆ f64      ┆ str      ┆ str    ┆ f64     ┆ f64    │\n",
      "╞════════════╪══════════╪══════════╪══════════╪════════╪═════════╪════════╡\n",
      "│ 2024-01-29 ┆ 14       ┆ 0.47     ┆ B        ┆ Active ┆ 2980.41 ┆ 295.57 │\n",
      "│ 2024-11-05 ┆ 35       ┆ 0.05     ┆ B        ┆ Active ┆ 3522.16 ┆ 223.25 │\n",
      "│ 2024-10-13 ┆ 34       ┆ 0.3      ┆ B        ┆ Active ┆ 2693.31 ┆ 328.58 │\n",
      "│ 2024-03-11 ┆ 44       ┆ 0.39     ┆ B        ┆ Active ┆ 4167.64 ┆ 493.6  │\n",
      "│ 2024-04-18 ┆ 6        ┆ 0.42     ┆ B        ┆ Active ┆ 2507.12 ┆ 474.24 │\n",
      "│ …          ┆ …        ┆ …        ┆ …        ┆ …      ┆ …       ┆ …      │\n",
      "│ 2024-03-31 ┆ 12       ┆ 0.05     ┆ B        ┆ Active ┆ 2647.91 ┆ 266.16 │\n",
      "│ 2023-12-17 ┆ 34       ┆ 0.06     ┆ B        ┆ Active ┆ 4460.02 ┆ 476.4  │\n",
      "│ 2023-12-04 ┆ 31       ┆ 0.03     ┆ B        ┆ Active ┆ 1404.45 ┆ 474.81 │\n",
      "│ 2024-09-29 ┆ 24       ┆ 0.39     ┆ B        ┆ Active ┆ 2028.62 ┆ 102.36 │\n",
      "│ 2024-09-05 ┆ 41       ┆ 0.26     ┆ B        ┆ Active ┆ 1799.02 ┆ 315.91 │\n",
      "└────────────┴──────────┴──────────┴──────────┴────────┴─────────┴────────┘\n"
     ]
    }
   ],
   "source": [
    "sqll = pl.scan_parquet('./data/sales.parquet')\n",
    "sql_context = pl.SQLContext()\n",
    "\n",
    "# Register the dataframe as a table 'df'\n",
    "sql_context.register(\"df\", sqll)\n",
    "\n",
    "# Execute the query with the registered table 'df'\n",
    "filtered_data = sql_context.execute('''\n",
    "    SELECT * FROM df \n",
    "    WHERE \"Category\" = 'B' AND \"Status\" = 'Active'\n",
    "''')\n",
    "\n",
    "# Print the filtered data\n",
    "print(filtered_data.collect(streaming=True))"
   ]
  }
 ],
 "metadata": {
  "kernelspec": {
   "display_name": "hack8",
   "language": "python",
   "name": "python3"
  },
  "language_info": {
   "codemirror_mode": {
    "name": "ipython",
    "version": 3
   },
   "file_extension": ".py",
   "mimetype": "text/x-python",
   "name": "python",
   "nbconvert_exporter": "python",
   "pygments_lexer": "ipython3",
   "version": "3.9.19"
  }
 },
 "nbformat": 4,
 "nbformat_minor": 2
}
